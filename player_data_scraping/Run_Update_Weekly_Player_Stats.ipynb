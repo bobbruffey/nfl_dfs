{
 "cells": [
  {
   "cell_type": "code",
   "execution_count": 1,
   "id": "dc8c13a1",
   "metadata": {},
   "outputs": [],
   "source": [
    "%run ./Functions_Only_Update_Weekly_Player_Stats.ipynb"
   ]
  },
  {
   "cell_type": "markdown",
   "id": "360f285f",
   "metadata": {},
   "source": [
    "### Pull Player Info"
   ]
  },
  {
   "cell_type": "code",
   "execution_count": 2,
   "id": "6530b050",
   "metadata": {},
   "outputs": [],
   "source": [
    "test_fun = update_player_weekly_stats()"
   ]
  },
  {
   "cell_type": "code",
   "execution_count": 3,
   "id": "19567cb2",
   "metadata": {},
   "outputs": [
    {
     "data": {
      "text/html": [
       "<div>\n",
       "<style scoped>\n",
       "    .dataframe tbody tr th:only-of-type {\n",
       "        vertical-align: middle;\n",
       "    }\n",
       "\n",
       "    .dataframe tbody tr th {\n",
       "        vertical-align: top;\n",
       "    }\n",
       "\n",
       "    .dataframe thead th {\n",
       "        text-align: right;\n",
       "    }\n",
       "</style>\n",
       "<table border=\"1\" class=\"dataframe\">\n",
       "  <thead>\n",
       "    <tr style=\"text-align: right;\">\n",
       "      <th></th>\n",
       "      <th>Gamelog</th>\n",
       "      <th>Player</th>\n",
       "      <th>Position</th>\n",
       "      <th>Playing_Prd_Strt</th>\n",
       "      <th>Playing_Prd_End</th>\n",
       "    </tr>\n",
       "  </thead>\n",
       "  <tbody>\n",
       "    <tr>\n",
       "      <th>0</th>\n",
       "      <td>https://www.pro-football-reference.com/players...</td>\n",
       "      <td>Isaako Aaitui</td>\n",
       "      <td>DT</td>\n",
       "      <td>2013</td>\n",
       "      <td>2013</td>\n",
       "    </tr>\n",
       "    <tr>\n",
       "      <th>4</th>\n",
       "      <td>https://www.pro-football-reference.com/players...</td>\n",
       "      <td>Jared Abbrederis</td>\n",
       "      <td>WR</td>\n",
       "      <td>2015</td>\n",
       "      <td>2017</td>\n",
       "    </tr>\n",
       "    <tr>\n",
       "      <th>6</th>\n",
       "      <td>https://www.pro-football-reference.com/players...</td>\n",
       "      <td>Mehdi Abdesmad</td>\n",
       "      <td>DE</td>\n",
       "      <td>2016</td>\n",
       "      <td>2016</td>\n",
       "    </tr>\n",
       "    <tr>\n",
       "      <th>8</th>\n",
       "      <td>https://www.pro-football-reference.com/players...</td>\n",
       "      <td>Isa Abdul-Quddus</td>\n",
       "      <td>S</td>\n",
       "      <td>2011</td>\n",
       "      <td>2016</td>\n",
       "    </tr>\n",
       "    <tr>\n",
       "      <th>9</th>\n",
       "      <td>https://www.pro-football-reference.com/players...</td>\n",
       "      <td>Ameer Abdullah</td>\n",
       "      <td>RB</td>\n",
       "      <td>2015</td>\n",
       "      <td>2023</td>\n",
       "    </tr>\n",
       "  </tbody>\n",
       "</table>\n",
       "</div>"
      ],
      "text/plain": [
       "                                             Gamelog            Player  \\\n",
       "0  https://www.pro-football-reference.com/players...     Isaako Aaitui   \n",
       "4  https://www.pro-football-reference.com/players...  Jared Abbrederis   \n",
       "6  https://www.pro-football-reference.com/players...    Mehdi Abdesmad   \n",
       "8  https://www.pro-football-reference.com/players...  Isa Abdul-Quddus   \n",
       "9  https://www.pro-football-reference.com/players...    Ameer Abdullah   \n",
       "\n",
       "  Position  Playing_Prd_Strt  Playing_Prd_End  \n",
       "0       DT              2013             2013  \n",
       "4       WR              2015             2017  \n",
       "6       DE              2016             2016  \n",
       "8        S              2011             2016  \n",
       "9       RB              2015             2023  "
      ]
     },
     "execution_count": 3,
     "metadata": {},
     "output_type": "execute_result"
    }
   ],
   "source": [
    "test_fun.head()"
   ]
  },
  {
   "cell_type": "markdown",
   "id": "61760e32",
   "metadata": {},
   "source": [
    "### Pull Defensive Data"
   ]
  },
  {
   "cell_type": "code",
   "execution_count": 4,
   "id": "7e400df3",
   "metadata": {},
   "outputs": [],
   "source": [
    "nfl_sched = pd.read_csv('C:/Users/bobbr/OneDrive/Documents/The Plan/NFL/NFL Schedule.csv')\n",
    "test = def_weekly_stats_scrape(first_yr = 2015, last_yr = 2023, nfl_sched = nfl_sched)"
   ]
  },
  {
   "cell_type": "code",
   "execution_count": 5,
   "id": "2c8e0f2c",
   "metadata": {},
   "outputs": [],
   "source": [
    "def_weekly = def_curr_wk_for_positions(def_df = test,\n",
    "                    nfl_sched = nfl_sched,\n",
    "                    curr_wk = 3,\n",
    "                    curr_yr = 2023)"
   ]
  },
  {
   "cell_type": "code",
   "execution_count": 6,
   "id": "677b6518",
   "metadata": {},
   "outputs": [
    {
     "data": {
      "text/html": [
       "<div>\n",
       "<style scoped>\n",
       "    .dataframe tbody tr th:only-of-type {\n",
       "        vertical-align: middle;\n",
       "    }\n",
       "\n",
       "    .dataframe tbody tr th {\n",
       "        vertical-align: top;\n",
       "    }\n",
       "\n",
       "    .dataframe thead th {\n",
       "        text-align: right;\n",
       "    }\n",
       "</style>\n",
       "<table border=\"1\" class=\"dataframe\">\n",
       "  <thead>\n",
       "    <tr style=\"text-align: right;\">\n",
       "      <th></th>\n",
       "      <th>Team</th>\n",
       "      <th>CITY</th>\n",
       "      <th>Week</th>\n",
       "      <th>Sack</th>\n",
       "      <th>FR</th>\n",
       "      <th>INT</th>\n",
       "      <th>DefTD</th>\n",
       "      <th>PA</th>\n",
       "      <th>PaYD</th>\n",
       "      <th>RuYd</th>\n",
       "      <th>Safety</th>\n",
       "      <th>KickTD</th>\n",
       "      <th>FPts</th>\n",
       "      <th>week_num</th>\n",
       "      <th>year</th>\n",
       "      <th>Opp</th>\n",
       "      <th>away flag</th>\n",
       "      <th>team_wk_year</th>\n",
       "      <th>opp_wk_year</th>\n",
       "    </tr>\n",
       "  </thead>\n",
       "  <tbody>\n",
       "    <tr>\n",
       "      <th>0</th>\n",
       "      <td>Seahawks</td>\n",
       "      <td>SEA</td>\n",
       "      <td>1</td>\n",
       "      <td>2</td>\n",
       "      <td>3</td>\n",
       "      <td>0</td>\n",
       "      <td>1</td>\n",
       "      <td>34</td>\n",
       "      <td>297.0</td>\n",
       "      <td>76.0</td>\n",
       "      <td>0</td>\n",
       "      <td>1</td>\n",
       "      <td>20.0</td>\n",
       "      <td>1</td>\n",
       "      <td>2015</td>\n",
       "      <td>LAR</td>\n",
       "      <td>1</td>\n",
       "      <td>SEA 1 2015</td>\n",
       "      <td>LAR 1 2015</td>\n",
       "    </tr>\n",
       "    <tr>\n",
       "      <th>1</th>\n",
       "      <td>Panthers</td>\n",
       "      <td>CAR</td>\n",
       "      <td>1</td>\n",
       "      <td>5</td>\n",
       "      <td>1</td>\n",
       "      <td>2</td>\n",
       "      <td>1</td>\n",
       "      <td>9</td>\n",
       "      <td>183.0</td>\n",
       "      <td>96.0</td>\n",
       "      <td>0</td>\n",
       "      <td>0</td>\n",
       "      <td>17.0</td>\n",
       "      <td>1</td>\n",
       "      <td>2015</td>\n",
       "      <td>JAX</td>\n",
       "      <td>1</td>\n",
       "      <td>CAR 1 2015</td>\n",
       "      <td>JAX 1 2015</td>\n",
       "    </tr>\n",
       "    <tr>\n",
       "      <th>2</th>\n",
       "      <td>Rams</td>\n",
       "      <td>LAR</td>\n",
       "      <td>1</td>\n",
       "      <td>6</td>\n",
       "      <td>0</td>\n",
       "      <td>1</td>\n",
       "      <td>0</td>\n",
       "      <td>31</td>\n",
       "      <td>251.0</td>\n",
       "      <td>124.0</td>\n",
       "      <td>0</td>\n",
       "      <td>1</td>\n",
       "      <td>14.0</td>\n",
       "      <td>1</td>\n",
       "      <td>2015</td>\n",
       "      <td>SEA</td>\n",
       "      <td>0</td>\n",
       "      <td>LAR 1 2015</td>\n",
       "      <td>SEA 1 2015</td>\n",
       "    </tr>\n",
       "    <tr>\n",
       "      <th>3</th>\n",
       "      <td>Titans</td>\n",
       "      <td>TEN</td>\n",
       "      <td>1</td>\n",
       "      <td>4</td>\n",
       "      <td>0</td>\n",
       "      <td>2</td>\n",
       "      <td>1</td>\n",
       "      <td>14</td>\n",
       "      <td>210.0</td>\n",
       "      <td>92.0</td>\n",
       "      <td>0</td>\n",
       "      <td>0</td>\n",
       "      <td>14.0</td>\n",
       "      <td>1</td>\n",
       "      <td>2015</td>\n",
       "      <td>TB</td>\n",
       "      <td>1</td>\n",
       "      <td>TEN 1 2015</td>\n",
       "      <td>TB 1 2015</td>\n",
       "    </tr>\n",
       "    <tr>\n",
       "      <th>4</th>\n",
       "      <td>Lions</td>\n",
       "      <td>DET</td>\n",
       "      <td>1</td>\n",
       "      <td>2</td>\n",
       "      <td>1</td>\n",
       "      <td>2</td>\n",
       "      <td>1</td>\n",
       "      <td>33</td>\n",
       "      <td>404.0</td>\n",
       "      <td>95.0</td>\n",
       "      <td>0</td>\n",
       "      <td>0</td>\n",
       "      <td>14.0</td>\n",
       "      <td>1</td>\n",
       "      <td>2015</td>\n",
       "      <td>LAC</td>\n",
       "      <td>1</td>\n",
       "      <td>DET 1 2015</td>\n",
       "      <td>LAC 1 2015</td>\n",
       "    </tr>\n",
       "    <tr>\n",
       "      <th>...</th>\n",
       "      <td>...</td>\n",
       "      <td>...</td>\n",
       "      <td>...</td>\n",
       "      <td>...</td>\n",
       "      <td>...</td>\n",
       "      <td>...</td>\n",
       "      <td>...</td>\n",
       "      <td>...</td>\n",
       "      <td>...</td>\n",
       "      <td>...</td>\n",
       "      <td>...</td>\n",
       "      <td>...</td>\n",
       "      <td>...</td>\n",
       "      <td>...</td>\n",
       "      <td>...</td>\n",
       "      <td>...</td>\n",
       "      <td>...</td>\n",
       "      <td>...</td>\n",
       "      <td>...</td>\n",
       "    </tr>\n",
       "    <tr>\n",
       "      <th>488</th>\n",
       "      <td>49ers</td>\n",
       "      <td>SF</td>\n",
       "      <td>3</td>\n",
       "      <td>None</td>\n",
       "      <td>None</td>\n",
       "      <td>None</td>\n",
       "      <td>None</td>\n",
       "      <td>None</td>\n",
       "      <td>None</td>\n",
       "      <td>None</td>\n",
       "      <td>None</td>\n",
       "      <td>None</td>\n",
       "      <td>None</td>\n",
       "      <td>3</td>\n",
       "      <td>2023</td>\n",
       "      <td>NYG</td>\n",
       "      <td>None</td>\n",
       "      <td>SF 3 2023</td>\n",
       "      <td>NYG 3 2023</td>\n",
       "    </tr>\n",
       "    <tr>\n",
       "      <th>506</th>\n",
       "      <td>Seahawks</td>\n",
       "      <td>SEA</td>\n",
       "      <td>3</td>\n",
       "      <td>None</td>\n",
       "      <td>None</td>\n",
       "      <td>None</td>\n",
       "      <td>None</td>\n",
       "      <td>None</td>\n",
       "      <td>None</td>\n",
       "      <td>None</td>\n",
       "      <td>None</td>\n",
       "      <td>None</td>\n",
       "      <td>None</td>\n",
       "      <td>3</td>\n",
       "      <td>2023</td>\n",
       "      <td>CAR</td>\n",
       "      <td>None</td>\n",
       "      <td>SEA 3 2023</td>\n",
       "      <td>CAR 3 2023</td>\n",
       "    </tr>\n",
       "    <tr>\n",
       "      <th>524</th>\n",
       "      <td>Buccaneers</td>\n",
       "      <td>TB</td>\n",
       "      <td>3</td>\n",
       "      <td>None</td>\n",
       "      <td>None</td>\n",
       "      <td>None</td>\n",
       "      <td>None</td>\n",
       "      <td>None</td>\n",
       "      <td>None</td>\n",
       "      <td>None</td>\n",
       "      <td>None</td>\n",
       "      <td>None</td>\n",
       "      <td>None</td>\n",
       "      <td>3</td>\n",
       "      <td>2023</td>\n",
       "      <td>PHI</td>\n",
       "      <td>None</td>\n",
       "      <td>TB 3 2023</td>\n",
       "      <td>PHI 3 2023</td>\n",
       "    </tr>\n",
       "    <tr>\n",
       "      <th>542</th>\n",
       "      <td>Titans</td>\n",
       "      <td>TEN</td>\n",
       "      <td>3</td>\n",
       "      <td>None</td>\n",
       "      <td>None</td>\n",
       "      <td>None</td>\n",
       "      <td>None</td>\n",
       "      <td>None</td>\n",
       "      <td>None</td>\n",
       "      <td>None</td>\n",
       "      <td>None</td>\n",
       "      <td>None</td>\n",
       "      <td>None</td>\n",
       "      <td>3</td>\n",
       "      <td>2023</td>\n",
       "      <td>CLE</td>\n",
       "      <td>None</td>\n",
       "      <td>TEN 3 2023</td>\n",
       "      <td>CLE 3 2023</td>\n",
       "    </tr>\n",
       "    <tr>\n",
       "      <th>560</th>\n",
       "      <td>Commanders</td>\n",
       "      <td>WSH</td>\n",
       "      <td>3</td>\n",
       "      <td>None</td>\n",
       "      <td>None</td>\n",
       "      <td>None</td>\n",
       "      <td>None</td>\n",
       "      <td>None</td>\n",
       "      <td>None</td>\n",
       "      <td>None</td>\n",
       "      <td>None</td>\n",
       "      <td>None</td>\n",
       "      <td>None</td>\n",
       "      <td>3</td>\n",
       "      <td>2023</td>\n",
       "      <td>BUF</td>\n",
       "      <td>None</td>\n",
       "      <td>WSH 3 2023</td>\n",
       "      <td>BUF 3 2023</td>\n",
       "    </tr>\n",
       "  </tbody>\n",
       "</table>\n",
       "<p>4254 rows × 19 columns</p>\n",
       "</div>"
      ],
      "text/plain": [
       "           Team CITY  Week  Sack    FR   INT DefTD    PA   PaYD   RuYd Safety  \\\n",
       "0      Seahawks  SEA     1     2     3     0     1    34  297.0   76.0      0   \n",
       "1      Panthers  CAR     1     5     1     2     1     9  183.0   96.0      0   \n",
       "2          Rams  LAR     1     6     0     1     0    31  251.0  124.0      0   \n",
       "3        Titans  TEN     1     4     0     2     1    14  210.0   92.0      0   \n",
       "4         Lions  DET     1     2     1     2     1    33  404.0   95.0      0   \n",
       "..          ...  ...   ...   ...   ...   ...   ...   ...    ...    ...    ...   \n",
       "488       49ers   SF     3  None  None  None  None  None   None   None   None   \n",
       "506    Seahawks  SEA     3  None  None  None  None  None   None   None   None   \n",
       "524  Buccaneers   TB     3  None  None  None  None  None   None   None   None   \n",
       "542      Titans  TEN     3  None  None  None  None  None   None   None   None   \n",
       "560  Commanders  WSH     3  None  None  None  None  None   None   None   None   \n",
       "\n",
       "    KickTD  FPts  week_num  year  Opp away flag team_wk_year opp_wk_year  \n",
       "0        1  20.0         1  2015  LAR         1   SEA 1 2015  LAR 1 2015  \n",
       "1        0  17.0         1  2015  JAX         1   CAR 1 2015  JAX 1 2015  \n",
       "2        1  14.0         1  2015  SEA         0   LAR 1 2015  SEA 1 2015  \n",
       "3        0  14.0         1  2015   TB         1   TEN 1 2015   TB 1 2015  \n",
       "4        0  14.0         1  2015  LAC         1   DET 1 2015  LAC 1 2015  \n",
       "..     ...   ...       ...   ...  ...       ...          ...         ...  \n",
       "488   None  None         3  2023  NYG      None    SF 3 2023  NYG 3 2023  \n",
       "506   None  None         3  2023  CAR      None   SEA 3 2023  CAR 3 2023  \n",
       "524   None  None         3  2023  PHI      None    TB 3 2023  PHI 3 2023  \n",
       "542   None  None         3  2023  CLE      None   TEN 3 2023  CLE 3 2023  \n",
       "560   None  None         3  2023  BUF      None   WSH 3 2023  BUF 3 2023  \n",
       "\n",
       "[4254 rows x 19 columns]"
      ]
     },
     "execution_count": 6,
     "metadata": {},
     "output_type": "execute_result"
    }
   ],
   "source": [
    "def_weekly"
   ]
  },
  {
   "cell_type": "markdown",
   "id": "9bd4cc2c",
   "metadata": {},
   "source": [
    "### Prep QB Data"
   ]
  },
  {
   "cell_type": "code",
   "execution_count": null,
   "id": "52f9bbb1",
   "metadata": {
    "scrolled": true
   },
   "outputs": [
    {
     "name": "stdout",
     "output_type": "stream",
     "text": [
      "test\n",
      "0\n",
      "Brandon Allen\n",
      "1\n",
      "Josh Allen\n",
      "2\n",
      "Kyle Allen\n",
      "3\n",
      "Derek Anderson\n",
      "4\n",
      "Matt Barkley\n",
      "5\n",
      "Charlie Batch\n",
      "6\n",
      "C.J. Beathard\n",
      "7\n",
      "Kurt Benkert\n",
      "8\n",
      "David Blough\n",
      "9\n",
      "Ian Book\n",
      "10\n",
      "Blake Bortles\n",
      "11\n",
      "Trevone Boykin\n",
      "12\n",
      "Tim Boyle\n",
      "13\n",
      "Sam Bradford\n",
      "14\n",
      "Tom Brady\n",
      "15\n",
      "Tyler Bray\n",
      "16\n",
      "Drew Brees\n",
      "17\n",
      "Teddy Bridgewater\n",
      "18\n",
      "Jacoby Brissett\n",
      "19\n",
      "Anthony Brown\n",
      "20\n",
      "Jake Browning\n",
      "21\n",
      "Joe Burrow\n",
      "22\n",
      "Joe Callahan\n",
      "23\n",
      "Jason Campbell\n",
      "24\n",
      "David Carr\n",
      "25\n",
      "Derek Carr\n",
      "26\n",
      "Matt Cassel\n",
      "27\n",
      "Jimmy Clausen\n",
      "28\n",
      "Kellen Clemens\n",
      "29\n",
      "Sean Clifford\n",
      "30\n",
      "Connor Cook\n",
      "31\n",
      "Kirk Cousins\n",
      "32\n",
      "Jay Cutler\n",
      "33\n",
      "Andy Dalton\n",
      "34\n",
      "Chase Daniel\n",
      "35\n",
      "B.J. Daniels\n",
      "36\n",
      "Sam Darnold\n",
      "37\n",
      "Austin Davis\n",
      "38\n",
      "Dominique Davis\n",
      "39\n",
      "Ben DiNucci\n",
      "40\n",
      "Joshua Dobbs\n",
      "41\n",
      "Jeff Driskel\n",
      "42\n",
      "Jacob Eason\n",
      "43\n",
      "Armanti Edwards\n",
      "44\n",
      "Trent Edwards\n",
      "45\n",
      "Sam Ehlinger\n",
      "46\n",
      "David Fales\n",
      "47\n",
      "Luke Falk\n",
      "48\n",
      "Justin Fields\n",
      "49\n",
      "Ryan Finley\n",
      "50\n",
      "Ryan Fitzpatrick\n",
      "51\n",
      "Joe Flacco\n",
      "52\n",
      "Matt Flynn\n",
      "53\n",
      "Nick Foles\n",
      "54\n",
      "Feleipe Franks\n",
      "55\n",
      "Josh Freeman\n",
      "56\n",
      "Jake Fromm\n",
      "57\n",
      "Blaine Gabbert\n",
      "58\n",
      "Jimmy Garoppolo\n",
      "59\n",
      "Garrett Gilbert\n",
      "60\n",
      "Mike Glennon\n",
      "61\n",
      "Jared Goff\n",
      "62\n",
      "Bruce Gradkowski\n",
      "63\n",
      "Will Grier\n",
      "64\n",
      "Robert Griffin III\n",
      "65\n",
      "Ryan Griffin\n",
      "66\n",
      "Graham Harrell\n",
      "67\n",
      "Dwayne Haskins\n",
      "68\n",
      "Matt Hasselbeck\n",
      "69\n",
      "Taylor Heinicke\n",
      "70\n",
      "Chad Henne\n",
      "71\n",
      "Justin Herbert\n"
     ]
    }
   ],
   "source": [
    "df_qb = position_feat_eng_df_creation(player_df = test_fun,\n",
    "                              def_df = test,\n",
    "                              position = 'QB',\n",
    "                                     file_save = 'qb_player_data_v1.csv')"
   ]
  },
  {
   "cell_type": "code",
   "execution_count": null,
   "id": "2bdb38b3",
   "metadata": {},
   "outputs": [],
   "source": [
    "df_qb2 = position_feat_eng_df_creation2(new_df2 = df_qb, \n",
    "                                        def_df = test,\n",
    "                                        position = 'QB',\n",
    "                                  file_save =  'qb_player_data_v1.csv')"
   ]
  },
  {
   "cell_type": "code",
   "execution_count": null,
   "id": "6a01bd8d",
   "metadata": {},
   "outputs": [],
   "source": [
    "test_final = create_qb_trend_var(qb_df=df_qb2,\n",
    "                                 position = 'QB',\n",
    "                                file_save = 'qb_player_data_final.csv')"
   ]
  },
  {
   "cell_type": "code",
   "execution_count": null,
   "id": "306051f7",
   "metadata": {
    "scrolled": true
   },
   "outputs": [],
   "source": [
    "curr_wk_df = create_curr_wk_oot_qb(nfl_sched = nfl_sched,\n",
    "                                   year= 2023, \n",
    "                                   week = 3,\n",
    "                                   player_df=test_fun,\n",
    "                                   position = 'QB',\n",
    "                                  def_df = def_weekly,\n",
    "                                  save_file = '2023qbweek3.csv')"
   ]
  },
  {
   "cell_type": "code",
   "execution_count": null,
   "id": "264486d1",
   "metadata": {},
   "outputs": [],
   "source": [
    "print(curr_wk_df.shape)\n",
    "a = np.setdiff1d(curr_wk_df.columns, df_qb.columns)\n",
    "print (a)\n"
   ]
  },
  {
   "cell_type": "code",
   "execution_count": null,
   "id": "bc15aaeb",
   "metadata": {},
   "outputs": [],
   "source": [
    "qb_df_wk18 = create_qb_trend_var(qb_df = curr_wk_df,\n",
    "                                position = 'QB',\n",
    "                               file_save = '2023week3qb_final.csv')"
   ]
  },
  {
   "cell_type": "code",
   "execution_count": null,
   "id": "327f2ea6",
   "metadata": {},
   "outputs": [],
   "source": [
    "qb_df_wk18"
   ]
  },
  {
   "cell_type": "markdown",
   "id": "a886b39e",
   "metadata": {},
   "source": [
    "### Prep RB Data"
   ]
  },
  {
   "cell_type": "code",
   "execution_count": null,
   "id": "b5f167e1",
   "metadata": {
    "scrolled": true
   },
   "outputs": [],
   "source": [
    "rb_test = position_feat_eng_df_creation(player_df = test_fun,\n",
    "                              def_df = test,\n",
    "                              position = 'RB',\n",
    "                                   file_save = 'rb_player_data_v1.csv')"
   ]
  },
  {
   "cell_type": "code",
   "execution_count": null,
   "id": "f03a774d",
   "metadata": {},
   "outputs": [],
   "source": [
    "rb_test2 = position_feat_eng_df_creation2(new_df2 = rb_test, \n",
    "                                        def_df = test,\n",
    "                                        position = 'RB',\n",
    "                                  file_save =  'rb_player_data_v1.csv')"
   ]
  },
  {
   "cell_type": "code",
   "execution_count": null,
   "id": "450b025a",
   "metadata": {},
   "outputs": [],
   "source": [
    "rb_test_final = create_qb_trend_var(qb_df=rb_test2,\n",
    "                                 position = 'RB',\n",
    "                                file_save = 'rb_player_data_final.csv')"
   ]
  },
  {
   "cell_type": "code",
   "execution_count": null,
   "id": "601b4293",
   "metadata": {},
   "outputs": [],
   "source": [
    "curr_wk_rd_df = create_curr_wk_oot_qb(nfl_sched = nfl_sched,\n",
    "                                   year= 2023, \n",
    "                                   week = 3,\n",
    "                                   player_df=test_fun,\n",
    "                                   position = 'RB',\n",
    "                                  def_df = def_weekly,\n",
    "                                  save_file = '2023rbweek3.csv')"
   ]
  },
  {
   "cell_type": "code",
   "execution_count": null,
   "id": "cc3f1890",
   "metadata": {},
   "outputs": [],
   "source": [
    "rb_df_wk18 = create_qb_trend_var(qb_df = curr_wk_rd_df,\n",
    "                                position = 'RB',\n",
    "                               file_save = '2023week3rb_final.csv')"
   ]
  },
  {
   "cell_type": "markdown",
   "id": "d00d62db",
   "metadata": {},
   "source": [
    "### Prep WR Data"
   ]
  },
  {
   "cell_type": "code",
   "execution_count": null,
   "id": "3f124466",
   "metadata": {
    "scrolled": true
   },
   "outputs": [],
   "source": [
    "wr_test = position_feat_eng_df_creation(player_df = test_fun,\n",
    "                              def_df = test,\n",
    "                              position = 'WR',\n",
    "                                     file_save = 'wr_player_data_v1.csv')"
   ]
  },
  {
   "cell_type": "code",
   "execution_count": null,
   "id": "b0012697",
   "metadata": {},
   "outputs": [],
   "source": [
    "wr_test2 = position_feat_eng_df_creation2(new_df2 = wr_test, \n",
    "                                        def_df = test,\n",
    "                                        position = 'WR',\n",
    "                                  file_save =  'wr_player_data_v1.csv')"
   ]
  },
  {
   "cell_type": "code",
   "execution_count": null,
   "id": "1283efcb",
   "metadata": {},
   "outputs": [],
   "source": [
    "wr_test2 = wr_test2\n",
    "wr_test2['Year'] = wr_test2['Year'].astype(int)\n",
    "wr_test2 = wr_test2[wr_test2['Year']>2015]"
   ]
  },
  {
   "cell_type": "code",
   "execution_count": null,
   "id": "180af09b",
   "metadata": {},
   "outputs": [],
   "source": [
    "wr_test_final = create_qb_trend_var(qb_df=wr_test2,\n",
    "                                 position = 'WR',\n",
    "                                file_save = 'wr_player_data_final.csv')"
   ]
  },
  {
   "cell_type": "code",
   "execution_count": null,
   "id": "5d64d152",
   "metadata": {},
   "outputs": [],
   "source": [
    "curr_wk_wr_df = create_curr_wk_oot_qb(nfl_sched = nfl_sched,\n",
    "                                   year= 2023, \n",
    "                                   week = 3,\n",
    "                                   player_df=test_fun,\n",
    "                                   position = 'WR',\n",
    "                                  def_df = def_weekly,\n",
    "                                  save_file = '2023wrweek3.csv')"
   ]
  },
  {
   "cell_type": "code",
   "execution_count": null,
   "id": "16bd033b",
   "metadata": {},
   "outputs": [],
   "source": [
    "wr_wk18_final = create_qb_trend_var(qb_df=curr_wk_wr_df,\n",
    "                                 position = 'WR',\n",
    "                                file_save = '2023wrweek3_final.csv')"
   ]
  },
  {
   "cell_type": "markdown",
   "id": "449809e2",
   "metadata": {},
   "source": [
    "### Prep TE Data"
   ]
  },
  {
   "cell_type": "code",
   "execution_count": null,
   "id": "d960d8fc",
   "metadata": {
    "scrolled": true
   },
   "outputs": [],
   "source": [
    "te_test = position_feat_eng_df_creation(player_df = test_fun,\n",
    "                              def_df = test,\n",
    "                              position = 'TE',\n",
    "                                     file_save = 'te_player_data_v1.csv')"
   ]
  },
  {
   "cell_type": "code",
   "execution_count": null,
   "id": "0b972eec",
   "metadata": {},
   "outputs": [],
   "source": [
    "te_test2 = position_feat_eng_df_creation2(new_df2 = te_test, \n",
    "                                        def_df = test,\n",
    "                                        position = 'TE',\n",
    "                                  file_save =  'te_player_data_v1.csv')"
   ]
  },
  {
   "cell_type": "code",
   "execution_count": null,
   "id": "387792b7",
   "metadata": {},
   "outputs": [],
   "source": [
    "te_test2 = te_test2\n",
    "te_test2['Year'] = te_test2['Year'].astype(int)\n",
    "te_test2 = te_test2[te_test2['Year']>2015]"
   ]
  },
  {
   "cell_type": "code",
   "execution_count": null,
   "id": "1190037c",
   "metadata": {},
   "outputs": [],
   "source": [
    "te_test_final = create_qb_trend_var(qb_df=te_test2,\n",
    "                                 position = 'TE',\n",
    "                                file_save = 'te_player_data_final.csv')"
   ]
  },
  {
   "cell_type": "code",
   "execution_count": null,
   "id": "dbbee756",
   "metadata": {
    "scrolled": true
   },
   "outputs": [],
   "source": [
    "curr_wk_te_df = create_curr_wk_oot_qb(nfl_sched = nfl_sched,\n",
    "                                   year= 2023, \n",
    "                                   week = 3,\n",
    "                                   player_df=test_fun,\n",
    "                                   position = 'TE',\n",
    "                                  def_df = def_weekly,\n",
    "                                  save_file = '2023teweek3.csv')"
   ]
  },
  {
   "cell_type": "code",
   "execution_count": null,
   "id": "76f9c1f7",
   "metadata": {},
   "outputs": [],
   "source": [
    "te_wk1_final = create_qb_trend_var(qb_df=curr_wk_te_df,\n",
    "                              position = 'TE',\n",
    "                                file_save = '2023teweek3_final.csv')"
   ]
  },
  {
   "cell_type": "markdown",
   "id": "aae26745",
   "metadata": {},
   "source": [
    "### Prep K Data"
   ]
  },
  {
   "cell_type": "code",
   "execution_count": null,
   "id": "97e75667",
   "metadata": {},
   "outputs": [],
   "source": [
    "k_test = position_feat_eng_df_creation(player_df = test_fun,\n",
    "                              def_df = test,\n",
    "                              position = 'K',\n",
    "                                     file_save = 'k_player_data_v1.csv')"
   ]
  },
  {
   "cell_type": "code",
   "execution_count": null,
   "id": "aa56d0bd",
   "metadata": {},
   "outputs": [],
   "source": [
    "k_test2 = position_feat_eng_df_creation2(new_df2 = k_test, \n",
    "                                        def_df = test,\n",
    "                                        position = 'K',\n",
    "                                  file_save =  'k_player_data_v1.csv')"
   ]
  },
  {
   "cell_type": "code",
   "execution_count": null,
   "id": "b8148ebe",
   "metadata": {},
   "outputs": [],
   "source": [
    "k_test2 = k_test2\n",
    "k_test2['Year'] = k_test2['Year'].astype(int)\n",
    "k_test2 = k_test2[k_test2['Year']>2015]"
   ]
  },
  {
   "cell_type": "code",
   "execution_count": null,
   "id": "5fa8f2ff",
   "metadata": {},
   "outputs": [],
   "source": [
    "k_test_final = create_qb_trend_var(qb_df=k_test2,\n",
    "                                 position = 'K',\n",
    "                                file_save = 'k_player_data_final.csv')"
   ]
  },
  {
   "cell_type": "code",
   "execution_count": null,
   "id": "99ec9531",
   "metadata": {
    "scrolled": true
   },
   "outputs": [],
   "source": [
    "curr_wk_k_df = create_curr_wk_oot_qb(nfl_sched = nfl_sched,\n",
    "                                   year= 2023, \n",
    "                                   week = 3,\n",
    "                                   player_df=test_fun,\n",
    "                                   position = 'K',\n",
    "                                  def_df = def_weekly,\n",
    "                                  save_file = '2023kweek3.csv')"
   ]
  },
  {
   "cell_type": "code",
   "execution_count": null,
   "id": "28cd2bf3",
   "metadata": {},
   "outputs": [],
   "source": [
    "k_wk1_final = create_qb_trend_var(qb_df=curr_wk_k_df,\n",
    "                              position = 'K',\n",
    "                                file_save = '2023kweek3_final.csv')"
   ]
  },
  {
   "cell_type": "markdown",
   "id": "a3acb664",
   "metadata": {},
   "source": [
    "### Prep Def Data"
   ]
  },
  {
   "cell_type": "code",
   "execution_count": null,
   "id": "3f831edf",
   "metadata": {
    "scrolled": true
   },
   "outputs": [],
   "source": [
    "def_temp = def_feat_eng_df_creation(def_df = test,\n",
    "                                 file_save = 'def_team_data.csv')"
   ]
  },
  {
   "cell_type": "code",
   "execution_count": null,
   "id": "c9dacc1f",
   "metadata": {},
   "outputs": [],
   "source": [
    "xx = def_curr_wk_oot(def_df = test,\n",
    "                     nfl_sched = nfl_sched, \n",
    "                     curr_wk = 2, \n",
    "                     curr_yr = 2023,\n",
    "                    file_save = '2023defwk3_final.csv')"
   ]
  },
  {
   "cell_type": "code",
   "execution_count": null,
   "id": "b240e2f2",
   "metadata": {},
   "outputs": [],
   "source": [
    "xx.to_csv('2023defwk3_final.csv')"
   ]
  },
  {
   "cell_type": "code",
   "execution_count": null,
   "id": "a956f3f3",
   "metadata": {},
   "outputs": [],
   "source": []
  }
 ],
 "metadata": {
  "kernelspec": {
   "display_name": "Python 3 (ipykernel)",
   "language": "python",
   "name": "python3"
  },
  "language_info": {
   "codemirror_mode": {
    "name": "ipython",
    "version": 3
   },
   "file_extension": ".py",
   "mimetype": "text/x-python",
   "name": "python",
   "nbconvert_exporter": "python",
   "pygments_lexer": "ipython3",
   "version": "3.10.9"
  }
 },
 "nbformat": 4,
 "nbformat_minor": 5
}
